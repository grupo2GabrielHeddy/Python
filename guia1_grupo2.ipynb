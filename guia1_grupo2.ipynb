{
  "nbformat": 4,
  "nbformat_minor": 0,
  "metadata": {
    "colab": {
      "name": "Tarea_Python.ipynb",
      "provenance": [],
      "collapsed_sections": []
    },
    "kernelspec": {
      "name": "python3",
      "display_name": "Python 3"
    },
    "language_info": {
      "name": "python"
    }
  },
  "cells": [
    {
      "cell_type": "markdown",
      "metadata": {
        "id": "uUDiSVXsHB2x"
      },
      "source": [
        "# Ejercicio 2\n",
        "Se obtiene el área de un circulo a partir del radio, falta ponerle unidades para que sea mas boni"
      ]
    },
    {
      "cell_type": "code",
      "metadata": {
        "id": "WT4t-dYviJOS",
        "colab": {
          "base_uri": "https://localhost:8080/"
        },
        "outputId": "f38da9c3-8205-47c8-be7e-5cc83279ff54"
      },
      "source": [
        "import math\n",
        "radio = float (input('¿cuál es el radio de circulo? '))\n",
        "area = math.pi*(radio*radio)\n",
        "print (\"El área del circulo de radio\",radio,\"es\",area,\" \")\n"
      ],
      "execution_count": null,
      "outputs": [
        {
          "output_type": "stream",
          "text": [
            "¿cuál es el radio de circulo? 10\n",
            "El área del circulo de radio 10.0 es 314.1592653589793  \n"
          ],
          "name": "stdout"
        }
      ]
    },
    {
      "cell_type": "markdown",
      "metadata": {
        "id": "3RY7unJwHz92"
      },
      "source": [
        "# Ejercicio 3\n",
        "\n",
        "Evalúe estas expresiones y sentencias en el orden indicado.\n",
        "1. a = ‘b’\n",
        "2. a +’b’\n",
        "3. a + ‘a’\n",
        "4. a * 2 + ‘b’ * 3\n",
        "5. 2 * (a + ‘b’)"
      ]
    },
    {
      "cell_type": "code",
      "metadata": {
        "colab": {
          "base_uri": "https://localhost:8080/",
          "height": 35
        },
        "id": "1JxLQFsPH9oJ",
        "outputId": "17ad63df-5d3b-4a53-972c-1210a0de4d95"
      },
      "source": [
        "\n",
        "a = 'b'\n",
        "a + 'b'\n",
        "a + 'a'\n",
        "a * 2 + 'b' * 3\n",
        "2 * (a + 'b')"
      ],
      "execution_count": 17,
      "outputs": [
        {
          "output_type": "execute_result",
          "data": {
            "application/vnd.google.colaboratory.intrinsic+json": {
              "type": "string"
            },
            "text/plain": [
              "'bbbb'"
            ]
          },
          "metadata": {
            "tags": []
          },
          "execution_count": 17
        }
      ]
    },
    {
      "cell_type": "markdown",
      "metadata": {
        "id": "1XtsQ3JbIcRu"
      },
      "source": [
        "# Ejercicio 4\n",
        "Realice un programa que pida el nombre de un persona y lo muestre por consola o\n",
        "interprete repetido 1000 veces, pero dejando un espacio de separación entre aparición\n",
        "del nombre."
      ]
    },
    {
      "cell_type": "code",
      "metadata": {
        "colab": {
          "base_uri": "https://localhost:8080/"
        },
        "id": "xUtktdymIgtu",
        "outputId": "5ad1bd33-56e3-4b3f-d74b-e6086e8ddeaa"
      },
      "source": [
        "nombre = input('Nombre:  ')\n",
        "nombre += ' '\n",
        "mensaje = nombre * 1000\n",
        "print (mensaje)\n"
      ],
      "execution_count": null,
      "outputs": [
        {
          "output_type": "stream",
          "text": [
            "Nombre:  Umaru\n",
            "Umaru Umaru Umaru Umaru Umaru Umaru Umaru Umaru Umaru Umaru Umaru Umaru Umaru Umaru Umaru Umaru Umaru Umaru Umaru Umaru Umaru Umaru Umaru Umaru Umaru Umaru Umaru Umaru Umaru Umaru Umaru Umaru Umaru Umaru Umaru Umaru Umaru Umaru Umaru Umaru Umaru Umaru Umaru Umaru Umaru Umaru Umaru Umaru Umaru Umaru Umaru Umaru Umaru Umaru Umaru Umaru Umaru Umaru Umaru Umaru Umaru Umaru Umaru Umaru Umaru Umaru Umaru Umaru Umaru Umaru Umaru Umaru Umaru Umaru Umaru Umaru Umaru Umaru Umaru Umaru Umaru Umaru Umaru Umaru Umaru Umaru Umaru Umaru Umaru Umaru Umaru Umaru Umaru Umaru Umaru Umaru Umaru Umaru Umaru Umaru Umaru Umaru Umaru Umaru Umaru Umaru Umaru Umaru Umaru Umaru Umaru Umaru Umaru Umaru Umaru Umaru Umaru Umaru Umaru Umaru Umaru Umaru Umaru Umaru Umaru Umaru Umaru Umaru Umaru Umaru Umaru Umaru Umaru Umaru Umaru Umaru Umaru Umaru Umaru Umaru Umaru Umaru Umaru Umaru Umaru Umaru Umaru Umaru Umaru Umaru Umaru Umaru Umaru Umaru Umaru Umaru Umaru Umaru Umaru Umaru Umaru Umaru Umaru Umaru Umaru Umaru Umaru Umaru Umaru Umaru Umaru Umaru Umaru Umaru Umaru Umaru Umaru Umaru Umaru Umaru Umaru Umaru Umaru Umaru Umaru Umaru Umaru Umaru Umaru Umaru Umaru Umaru Umaru Umaru Umaru Umaru Umaru Umaru Umaru Umaru Umaru Umaru Umaru Umaru Umaru Umaru Umaru Umaru Umaru Umaru Umaru Umaru Umaru Umaru Umaru Umaru Umaru Umaru Umaru Umaru Umaru Umaru Umaru Umaru Umaru Umaru Umaru Umaru Umaru Umaru Umaru Umaru Umaru Umaru Umaru Umaru Umaru Umaru Umaru Umaru Umaru Umaru Umaru Umaru Umaru Umaru Umaru Umaru Umaru Umaru Umaru Umaru Umaru Umaru Umaru Umaru Umaru Umaru Umaru Umaru Umaru Umaru Umaru Umaru Umaru Umaru Umaru Umaru Umaru Umaru Umaru Umaru Umaru Umaru Umaru Umaru Umaru Umaru Umaru Umaru Umaru Umaru Umaru Umaru Umaru Umaru Umaru Umaru Umaru Umaru Umaru Umaru Umaru Umaru Umaru Umaru Umaru Umaru Umaru Umaru Umaru Umaru Umaru Umaru Umaru Umaru Umaru Umaru Umaru Umaru Umaru Umaru Umaru Umaru Umaru Umaru Umaru Umaru Umaru Umaru Umaru Umaru Umaru Umaru Umaru Umaru Umaru Umaru Umaru Umaru Umaru Umaru Umaru Umaru Umaru Umaru Umaru Umaru Umaru Umaru Umaru Umaru Umaru Umaru Umaru Umaru Umaru Umaru Umaru Umaru Umaru Umaru Umaru Umaru Umaru Umaru Umaru Umaru Umaru Umaru Umaru Umaru Umaru Umaru Umaru Umaru Umaru Umaru Umaru Umaru Umaru Umaru Umaru Umaru Umaru Umaru Umaru Umaru Umaru Umaru Umaru Umaru Umaru Umaru Umaru Umaru Umaru Umaru Umaru Umaru Umaru Umaru Umaru Umaru Umaru Umaru Umaru Umaru Umaru Umaru Umaru Umaru Umaru Umaru Umaru Umaru Umaru Umaru Umaru Umaru Umaru Umaru Umaru Umaru Umaru Umaru Umaru Umaru Umaru Umaru Umaru Umaru Umaru Umaru Umaru Umaru Umaru Umaru Umaru Umaru Umaru Umaru Umaru Umaru Umaru Umaru Umaru Umaru Umaru Umaru Umaru Umaru Umaru Umaru Umaru Umaru Umaru Umaru Umaru Umaru Umaru Umaru Umaru Umaru Umaru Umaru Umaru Umaru Umaru Umaru Umaru Umaru Umaru Umaru Umaru Umaru Umaru Umaru Umaru Umaru Umaru Umaru Umaru Umaru Umaru Umaru Umaru Umaru Umaru Umaru Umaru Umaru Umaru Umaru Umaru Umaru Umaru Umaru Umaru Umaru Umaru Umaru Umaru Umaru Umaru Umaru Umaru Umaru Umaru Umaru Umaru Umaru Umaru Umaru Umaru Umaru Umaru Umaru Umaru Umaru Umaru Umaru Umaru Umaru Umaru Umaru Umaru Umaru Umaru Umaru Umaru Umaru Umaru Umaru Umaru Umaru Umaru Umaru Umaru Umaru Umaru Umaru Umaru Umaru Umaru Umaru Umaru Umaru Umaru Umaru Umaru Umaru Umaru Umaru Umaru Umaru Umaru Umaru Umaru Umaru Umaru Umaru Umaru Umaru Umaru Umaru Umaru Umaru Umaru Umaru Umaru Umaru Umaru Umaru Umaru Umaru Umaru Umaru Umaru Umaru Umaru Umaru Umaru Umaru Umaru Umaru Umaru Umaru Umaru Umaru Umaru Umaru Umaru Umaru Umaru Umaru Umaru Umaru Umaru Umaru Umaru Umaru Umaru Umaru Umaru Umaru Umaru Umaru Umaru Umaru Umaru Umaru Umaru Umaru Umaru Umaru Umaru Umaru Umaru Umaru Umaru Umaru Umaru Umaru Umaru Umaru Umaru Umaru Umaru Umaru Umaru Umaru Umaru Umaru Umaru Umaru Umaru Umaru Umaru Umaru Umaru Umaru Umaru Umaru Umaru Umaru Umaru Umaru Umaru Umaru Umaru Umaru Umaru Umaru Umaru Umaru Umaru Umaru Umaru Umaru Umaru Umaru Umaru Umaru Umaru Umaru Umaru Umaru Umaru Umaru Umaru Umaru Umaru Umaru Umaru Umaru Umaru Umaru Umaru Umaru Umaru Umaru Umaru Umaru Umaru Umaru Umaru Umaru Umaru Umaru Umaru Umaru Umaru Umaru Umaru Umaru Umaru Umaru Umaru Umaru Umaru Umaru Umaru Umaru Umaru Umaru Umaru Umaru Umaru Umaru Umaru Umaru Umaru Umaru Umaru Umaru Umaru Umaru Umaru Umaru Umaru Umaru Umaru Umaru Umaru Umaru Umaru Umaru Umaru Umaru Umaru Umaru Umaru Umaru Umaru Umaru Umaru Umaru Umaru Umaru Umaru Umaru Umaru Umaru Umaru Umaru Umaru Umaru Umaru Umaru Umaru Umaru Umaru Umaru Umaru Umaru Umaru Umaru Umaru Umaru Umaru Umaru Umaru Umaru Umaru Umaru Umaru Umaru Umaru Umaru Umaru Umaru Umaru Umaru Umaru Umaru Umaru Umaru Umaru Umaru Umaru Umaru Umaru Umaru Umaru Umaru Umaru Umaru Umaru Umaru Umaru Umaru Umaru Umaru Umaru Umaru Umaru Umaru Umaru Umaru Umaru Umaru Umaru Umaru Umaru Umaru Umaru Umaru Umaru Umaru Umaru Umaru Umaru Umaru Umaru Umaru Umaru Umaru Umaru Umaru Umaru Umaru Umaru Umaru Umaru Umaru Umaru Umaru Umaru Umaru Umaru Umaru Umaru Umaru Umaru Umaru Umaru Umaru Umaru Umaru Umaru Umaru Umaru Umaru Umaru Umaru Umaru Umaru Umaru Umaru Umaru Umaru Umaru Umaru Umaru Umaru Umaru Umaru Umaru Umaru Umaru Umaru Umaru Umaru Umaru Umaru Umaru Umaru Umaru Umaru Umaru Umaru Umaru Umaru Umaru Umaru Umaru Umaru Umaru Umaru Umaru Umaru Umaru Umaru Umaru Umaru Umaru Umaru Umaru Umaru Umaru Umaru Umaru Umaru Umaru Umaru Umaru Umaru Umaru Umaru Umaru Umaru Umaru Umaru Umaru Umaru Umaru Umaru Umaru Umaru Umaru Umaru Umaru Umaru Umaru Umaru Umaru Umaru Umaru Umaru Umaru Umaru Umaru Umaru Umaru Umaru Umaru Umaru Umaru Umaru Umaru Umaru Umaru Umaru Umaru Umaru Umaru Umaru Umaru Umaru Umaru Umaru Umaru Umaru Umaru Umaru Umaru Umaru Umaru Umaru Umaru Umaru Umaru Umaru Umaru Umaru Umaru Umaru Umaru Umaru Umaru Umaru Umaru Umaru Umaru Umaru Umaru Umaru Umaru Umaru Umaru Umaru Umaru Umaru Umaru Umaru Umaru Umaru Umaru Umaru Umaru Umaru Umaru Umaru Umaru Umaru Umaru Umaru Umaru Umaru Umaru Umaru Umaru Umaru Umaru Umaru Umaru Umaru Umaru Umaru Umaru Umaru Umaru Umaru Umaru Umaru Umaru Umaru Umaru Umaru \n"
          ],
          "name": "stdout"
        }
      ]
    },
    {
      "cell_type": "markdown",
      "metadata": {
        "id": "_2HxIXHlMr4g"
      },
      "source": [
        "# Ejercicio 5\n",
        "Diseñe un programa que lea la edad de dos personas y diga quién es más joven, la\n",
        "primera o la segunda. Tenga en cuenta que ambas pueden tener la misma edad. En tal\n",
        "caso, debe desplegar un mensaje por pantalla adecuado."
      ]
    },
    {
      "cell_type": "code",
      "metadata": {
        "colab": {
          "base_uri": "https://localhost:8080/"
        },
        "id": "wP5Z7qX3M-pF",
        "outputId": "084aadfc-13dc-4acc-d465-e9c4e272c52b"
      },
      "source": [
        "\n",
        "Edad1 = int (input('¿cuál es la edad de la primera persona? '))\n",
        "Edad2 = int (input('¿cuál es la edad de la segunda persona? '))\n",
        "\n",
        "if  Edad1 == Edad2:\n",
        "    print ('tienen la misma edad')\n",
        "elif Edad1 > Edad2:\n",
        "    print ('La segunda persona es más joven')\n",
        "else:\n",
        "     print ('La primera persona es más joven')\n",
        "\n",
        "\n"
      ],
      "execution_count": null,
      "outputs": [
        {
          "output_type": "stream",
          "text": [
            "¿cuál es la edad de la primera persona? 13\n",
            "¿cuál es la edad de la segunda persona? 13\n",
            "tienen la misma edad\n"
          ],
          "name": "stdout"
        }
      ]
    },
    {
      "cell_type": "markdown",
      "metadata": {
        "id": "DNZ0mWVcRZf_"
      },
      "source": [
        "# Ejercicio 6\n",
        "Diseñe un programa que, dados dos números enteros, muestre por pantalla uno de estos\n",
        "mensajes: \"El segundo es el cuadrado exacto del primero\",\"El segundo es menor\n",
        "que el cuadrado del primero\" o \"El segundo es mayor que el cuadrado del primero\",\n",
        "dependiendo de la verificación de la condición correspondiente al significado de cada\n",
        "mensaje."
      ]
    },
    {
      "cell_type": "code",
      "metadata": {
        "colab": {
          "base_uri": "https://localhost:8080/"
        },
        "id": "oeZY9WMgRz7n",
        "outputId": "80925afc-a9d7-406c-8ecb-725e028c5533"
      },
      "source": [
        "num1 = int (input('¿cuál es el primer número? '))\n",
        "num2 = int (input('¿cuál es el segundo número? '))\n",
        "\n",
        "cuadrado1 = num1*num1\n",
        "\n",
        "if num2 == cuadrado1:\n",
        "    print ('El segundo es el cuadrado exacto del primero')\n",
        "\n",
        "elif num2 < cuadrado1:\n",
        "    print ('El segundo es menor que el cuadrado del primero')\n",
        "\n",
        "else:\n",
        "    print ('El segundo es mayor que el cuadrado del primero')"
      ],
      "execution_count": null,
      "outputs": [
        {
          "output_type": "stream",
          "text": [
            "¿cuál es el primer número? 12\n",
            "¿cuál es el segundo número? 144\n",
            "El segundo es el cuadrado exacto del primero\n"
          ],
          "name": "stdout"
        }
      ]
    },
    {
      "cell_type": "markdown",
      "metadata": {
        "id": "X0P1ZO45R5Dl"
      },
      "source": [
        "# Ejercicio 7\n",
        "Diseñe un programa que le permita calcular más de 1500 decimales de pi."
      ]
    },
    {
      "cell_type": "code",
      "metadata": {
        "id": "cdnCb2C-SAJF",
        "colab": {
          "base_uri": "https://localhost:8080/"
        },
        "outputId": "87f4f71e-960b-47e5-83c9-747f23a7d704"
      },
      "source": [
        "import math\n",
        "from decimal import *\n",
        "\n",
        "getcontext().prec = 1500\n",
        "k = 0\n",
        "phi = 0\n",
        "phi1 = 0\n",
        "while True:\n",
        "    phi += Decimal(2*(pow(-1,k))*(pow(3,(0.5-k))))/Decimal((2*k)+1)\n",
        "    k += 1\n",
        "    if phi1 == phi:\n",
        "        break\n",
        "    else:\n",
        "        phi1 = phi\n",
        "    \n",
        "print(phi)"
      ],
      "execution_count": null,
      "outputs": [
        {
          "output_type": "stream",
          "text": [
            "3.14159265358979306497778740683980304917859851057738278604973923135464051451558687524192885654761117074200571573570325015222223722803114218489189788675622330439335846211162151900104391629821060050210689849950559354691505202409232848178788699020093272755919054730551589199804315078548578948109415125171994846195005110600578688230636637019904891655742734501917398488982528942107339774961950248292633809451124912544670579582372965002400873883962747650087186026940159063377694969731112032423400384299860786365200464874962896512530451799722830106018071484630852181669886193124398153978055727902473890133631341393343618970160581158804238367399086420913732564851572681984437230347781162025722431291949186719768964286940716569885697119872665104969063466718479726571005444176446865719595666315510308652776489058397252661505053410277389013102201481077741879880306196391036297344867140733740316507114659157616367089111450731714102639157947884333351299358150064008415373094239319803569005330914401775787772131051488531068506440485953309740089664761449573408823072715766291770934100172446902257146295669483672131508326068573834534156268517551738561652708775095236240743680883030209269741388548316079554294696230982870659231150357184059477319603475649895527896383019924629941144696951043424275038765087317548375726866079160571594109818463754062014355669464649362988797356934989075643464820999160739017257394550588859494874462813160505627777137361222213843089357043755178890368325240929198769277731335320468160943139\n"
          ],
          "name": "stdout"
        }
      ]
    },
    {
      "cell_type": "markdown",
      "metadata": {
        "id": "s_H9pum2SA6E"
      },
      "source": [
        "# Ejercicio 8\n",
        "Asuma que posee dos variables, “varA” y “varB”, las cuales tienen valores asignados,\n",
        "números o strings.\n",
        "Escriba un código en Python que imprima por pantalla uno de los siguientes mensajes:\n",
        "\n",
        "• “string involucrado”, si ambos varA y varB son strings.\n",
        "\n",
        "• “mas grande”, si “varA” is mayor que “varB”.\n",
        "\n",
        "• “igual”, si “varA”, es igual a “varB”.\n",
        "\n",
        "• “mas pequeño”, si “varA” es menor que “varB”."
      ]
    },
    {
      "cell_type": "code",
      "metadata": {
        "colab": {
          "base_uri": "https://localhost:8080/"
        },
        "id": "rH6sxkNuSKJK",
        "outputId": "5b238b3d-90e5-4c61-c09e-88f9d69d32d7"
      },
      "source": [
        "\n",
        "varA = input('ingrese variable A: ')\n",
        "varB = input('ingrese variable B: ')\n",
        "\n",
        "if varA.isdigit() == True and varB.isdigit() == True:\n",
        "    varA = int(str(varA))\n",
        "    varB = int(str(varB))\n",
        "    if varA == varB:\n",
        "        print('Igual')\n",
        "    elif varA > varB:\n",
        "        print('mas grande')\n",
        "    else:\n",
        "        print('mas pequeño')\n",
        "else:\n",
        "    print('string involucrado')\n",
        "\n",
        "    \n",
        " "
      ],
      "execution_count": null,
      "outputs": [
        {
          "output_type": "stream",
          "text": [
            "ingrese variable A: 12\n",
            "ingrese variable B: 65\n",
            "mas pequeño\n"
          ],
          "name": "stdout"
        }
      ]
    },
    {
      "cell_type": "markdown",
      "metadata": {
        "id": "hZUt8zPaSK_l"
      },
      "source": [
        "# Ejercicio 10\n",
        "Convierta lo siguiente en código que utilice ciclos while:\n",
        "Print : 2 \n",
        "Print : 4\n",
        "Print : 6\n",
        "Print : 8\n",
        "Print : 10\n",
        "Print : 12\n",
        "Print : 14\n",
        "Print: Adios!\n",
        "\n",
        "Converta el siguiente código que utilice ciclos for:\n",
        "Print: “hello”\n",
        "Print: 10\n",
        "Print: 8\n",
        "Print: 6\n",
        "Print: 4\n",
        "Print: 2"
      ]
    },
    {
      "cell_type": "code",
      "metadata": {
        "colab": {
          "base_uri": "https://localhost:8080/"
        },
        "id": "ep8KSh4YSg5a",
        "outputId": "268b3e71-8a34-40d5-9781-2c7f344be0d5"
      },
      "source": [
        "i = 1\n",
        "while i <= 15:\n",
        "    if i % 2 == 0:\n",
        "        print(i)\n",
        "    i += 1\n",
        "print(\"Adiós!\")"
      ],
      "execution_count": null,
      "outputs": [
        {
          "output_type": "stream",
          "text": [
            "2\n",
            "4\n",
            "6\n",
            "8\n",
            "10\n",
            "12\n",
            "14\n",
            "Adiós!\n"
          ],
          "name": "stdout"
        }
      ]
    },
    {
      "cell_type": "code",
      "metadata": {
        "colab": {
          "base_uri": "https://localhost:8080/"
        },
        "id": "sqcKKR_nXmgW",
        "outputId": "716a55e6-d610-4b6b-e475-89574ca381a2"
      },
      "source": [
        "print(\"hello\")\n",
        "for i in range (1, 11, 2):\n",
        "    print(11-i)\n",
        "    \n",
        "    \n"
      ],
      "execution_count": null,
      "outputs": [
        {
          "output_type": "stream",
          "text": [
            "hello\n",
            "10\n",
            "8\n",
            "6\n",
            "4\n",
            "2\n"
          ],
          "name": "stdout"
        }
      ]
    },
    {
      "cell_type": "markdown",
      "metadata": {
        "id": "ETJ3U9TiSiV-"
      },
      "source": [
        "# Ejercicio 11\n",
        "Escriba un código basado en for loop, el cual sume desde uno hasta el final (incluyendo\n",
        "final). “final” es una variable definida por usted. Por ejemplo, si definimos el final como 6,\n",
        "el output de este debe ser: 1+2+3+4+5+6 = 21."
      ]
    },
    {
      "cell_type": "code",
      "metadata": {
        "colab": {
          "base_uri": "https://localhost:8080/"
        },
        "id": "6EuQdutmb3Zf",
        "outputId": "b6945bf0-0c6a-4869-9b80-071ba034f5ea"
      },
      "source": [
        "final = int (input('Eliga el número \"final\" '))\n",
        "suma = 0\n",
        "for i in range (1, final+1):\n",
        "    suma = suma + i\n",
        "for i in range (1, final):\n",
        "    print('',i,'+', end=\"\")\n",
        "\n",
        "print(' ',final,' = ',suma,'' )\n"
      ],
      "execution_count": null,
      "outputs": [
        {
          "output_type": "stream",
          "text": [
            "Eliga el número \"final\" 8\n",
            " 1 + 2 + 3 + 4 + 5 + 6 + 7 +  8  =  36 \n"
          ],
          "name": "stdout"
        }
      ]
    },
    {
      "cell_type": "markdown",
      "metadata": {
        "id": "-qAMWDGOSqbU"
      },
      "source": [
        "#Ejercicio 14\n",
        "Programación orientada a objetos OOP:\n",
        "Realice un programa en Python que incluya el estilo de programación orientada a objetos\n",
        "visto en clases, el cual represente la jerarquía de la Escuela de Ingeniería Eléctrica o\n",
        "equivalente (por ejemplo, jerarquía de una empresa, jerarquía de un sistema de\n",
        "adquisición de datos, jerarquía de un sistema de comunicaciones, etc.).\n",
        "\n",
        "• El programa debe contar con una clase “padre”, por ejemplo, Persona,\n",
        "director/rector, etc.\n",
        "\n",
        "• Debe considerar al menos 3 subclases o clases hijas.\n",
        "\n",
        "• Al menos una subclase debe ser hija de otra subclase.\n",
        "\n",
        "• Las clases deben contar con al menos 2 parámetros de entrada.\n",
        "\n",
        "• Las clases deben contar con al menos 2 metodos.\n",
        "\n",
        "• Debe realizar herencia de métodos y de atributos según corresponda.\n",
        "\n",
        "• Para cada clase debe desarrollar los “setters” y “getters” correspondientes.\n",
        "\n",
        "• Debe demostrar sus resultados a través de la ejecución del código, probando\n",
        "métodos y herencias."
      ]
    },
    {
      "cell_type": "code",
      "metadata": {
        "id": "hNANS7hEnXYm"
      },
      "source": [
        "class Person:\n",
        "  def __init__(self, nombre, apellido):\n",
        "    self.firstname = nombre\n",
        "    self.lastname = apellido\n",
        "    self.mail = None\n",
        "\n",
        "  def printname(self):\n",
        "    print(self.firstname, self.lastname)\n",
        "\n",
        "  def set_mail(self,correo):\n",
        "    self.mail = correo\n",
        "\n",
        "  def get_mail(self):\n",
        "    return self.mail\n",
        "#-------------------------------------------------------------------------------------------------------------------\n",
        "class Student(Person):\n",
        "  def __init__(self, nombre, apellido):\n",
        "    super().__init__(nombre, apellido)\n",
        "    self.generation = None\n",
        "\n",
        "  def set_gen(self, año):\n",
        "    self.generation = año \n",
        "\n",
        "  def get_gen(self):\n",
        "    print(\"El estudiante\", self.firstname, self.lastname, \"pertenece a la generación\", self.generation)\n",
        "\n",
        "#-------------------------------------------------------------------------------------------------------------------\n",
        "class Professor(Person):\n",
        "    def __init__(self, nombre, apellido):\n",
        "      super().__init__(nombre, apellido)\n",
        "      self.major = None\n",
        "    \n",
        "    def set_major(self,especialidad):\n",
        "      self.major = especialidad\n",
        "\n",
        "    def get_info(self):\n",
        "      print(\"El profesor\", self.firstname, self.lastname, \"especialista en\",self.major)\n",
        "\n",
        "#-------------------------------------------------------------------------------------------------------------------\n",
        "\n",
        "class Ayudante(Student):\n",
        "  def __init__(self, nombre, apellido):\n",
        "    super().__init__(nombre, apellido)\n",
        "    self.ay = None\n",
        "\n",
        "  def set_ay(self,new_ay):\n",
        "    self.ay = new_ay\n",
        "\n",
        "  def get_ay(self):\n",
        "    return \"El/La estudiante \"+ self.firstname + \" \" + self.lastname + \" es ayudante de \" + self.ay"
      ],
      "execution_count": 42,
      "outputs": []
    },
    {
      "cell_type": "code",
      "metadata": {
        "colab": {
          "base_uri": "https://localhost:8080/"
        },
        "id": "xr9YHw8QL64T",
        "outputId": "4bede796-b34b-46da-c98f-96275f537fe9"
      },
      "source": [
        "a = Ayudante(\"Gabriel\", \"Pinto\")\n",
        "a.printname()\n",
        "a.set_mail(\"gabriel.pinto.c@mail.pucv.cl\")\n",
        "print(a.get_mail())\n",
        "a.set_gen(2016)\n",
        "a.get_gen()\n",
        "a.set_ay(\"Circuitos Electrónicos\") \n",
        "print(a.get_ay())"
      ],
      "execution_count": 46,
      "outputs": [
        {
          "output_type": "stream",
          "text": [
            "Gabriel Pinto\n",
            "gabriel.pinto.c@mail.pucv.cl\n",
            "El estudiante Gabriel Pinto pertenece a la generación 2016\n",
            "El/La estudiante Gabriel Pinto es ayudante de Circuitos Electrónicos\n"
          ],
          "name": "stdout"
        }
      ]
    },
    {
      "cell_type": "code",
      "metadata": {
        "colab": {
          "base_uri": "https://localhost:8080/"
        },
        "id": "UpO41raSMNPS",
        "outputId": "ecdc68a9-3622-49fa-b850-4166dd202ecc"
      },
      "source": [
        "b = Professor(\"Sebastian\", \"Bruna\")\n",
        "b.printname()\n",
        "b.set_mail(\"sebastian.bruna@pucv.cl\")\n",
        "print(b.get_mail())\n",
        "b.set_major(\"Electrónica Digital\")\n",
        "b.get_info()\n"
      ],
      "execution_count": 50,
      "outputs": [
        {
          "output_type": "stream",
          "text": [
            "Sebastian Bruna\n",
            "sebastian.bruna@pucv.cl\n",
            "El profesor Sebastian Bruna especialista en Electrónica Digital\n"
          ],
          "name": "stdout"
        }
      ]
    }
  ]
}